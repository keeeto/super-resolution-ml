{
 "cells": [
  {
   "cell_type": "code",
   "execution_count": 1,
   "metadata": {},
   "outputs": [],
   "source": [
    "import sys\n",
    "sys.path.append('/home/mts87985/ml-tomo/super-resolution-ml/')\n",
    "import numpy as np"
   ]
  },
  {
   "cell_type": "code",
   "execution_count": 2,
   "metadata": {},
   "outputs": [],
   "source": [
    "datapath='segmentation/data/train/'\n",
    "valpath = 'segmentaiton/data/test/'\n",
    "img_dir='noiseless/'\n",
    "mask_dir='label/'\n",
    "ftypes=['.tiff']"
   ]
  },
  {
   "cell_type": "code",
   "execution_count": 3,
   "metadata": {},
   "outputs": [],
   "source": [
    "image_shape = (1280, 1280)\n",
    "patch_shape = (64, 64)\n",
    "patch_range = []"
   ]
  },
  {
   "cell_type": "code",
   "execution_count": 4,
   "metadata": {},
   "outputs": [],
   "source": [
    "from data_handeling.generators import mask_patch_from_file\n",
    "\n",
    "myGene = mask_patch_from_file(datapath,\n",
    "                           img_dir, mask_dir,\n",
    "                           patch_shape, image_shape,\n",
    "                           types = ftypes, patch_range=patch_range,\n",
    "                           debug=False,\n",
    "                           batch_size = 1,\n",
    "                           normalise_images=False)\n",
    "\n",
    "valGene = mask_patch_from_file(valpath,\n",
    "                           img_dir, mask_dir,\n",
    "                           patch_shape, image_shape,\n",
    "                           types = ftypes, patch_range=patch_range,\n",
    "                           debug=False,\n",
    "                           batch_size = 1,\n",
    "                           normalise_images=False)"
   ]
  },
  {
   "cell_type": "code",
   "execution_count": 5,
   "metadata": {},
   "outputs": [],
   "source": [
    "from models.u_net.model import unet\n",
    "import models.losses.custom_loss_functions as losses\n",
    "from tensorflow.keras.optimizers import Adam\n",
    "from tensorflow.keras.losses import binary_crossentropy\n",
    "\n",
    "model = unet(input_size = (patch_shape[0], patch_shape[1], 1))\n",
    "opt = Adam()\n",
    "#model.compile(loss=losses.weighted_cross_entropy(3), optimizer=opt)\n",
    "model.compile(loss=binary_crossentropy , optimizer=opt, metrics=['accuracy'])"
   ]
  },
  {
   "cell_type": "code",
   "execution_count": null,
   "metadata": {},
   "outputs": [],
   "source": [
    "epochs = 4\n",
    "steps_per_epoch = 400\n",
    "model.fit(myGene, steps_per_epoch=steps_per_epoch, epochs=epochs, validation_data=valGene, validation_steps=100)\n",
    "model.save_weights('saved_weights.hdf5')"
   ]
  },
  {
   "cell_type": "code",
   "execution_count": null,
   "metadata": {},
   "outputs": [],
   "source": [
    "model.load_weights('saved_weights.hdf5')"
   ]
  },
  {
   "cell_type": "code",
   "execution_count": null,
   "metadata": {},
   "outputs": [],
   "source": [
    "model.save('saved_model.h5')"
   ]
  },
  {
   "cell_type": "code",
   "execution_count": null,
   "metadata": {
    "scrolled": true
   },
   "outputs": [],
   "source": [
    "from  utils.tools import inference_binary_segmentation\n",
    "from tensorflow.keras.models import load_model\n",
    "\n",
    "datapath = 'data/segmentation/test/noiseless/'\n",
    "patch_shape = (64, 64)\n",
    "image_shape = (1280, 1280)\n",
    "savepath = './inferred_masks/'\n",
    "\n",
    "inference_binary_segmentation(datapath, patch_shape, image_shape, model,\n",
    "                 file_prefix='binary_mask', savepath=savepath, fig_size=(20, 8))"
   ]
  },
  {
   "cell_type": "code",
   "execution_count": null,
   "metadata": {},
   "outputs": [],
   "source": [
    "import imageio\n",
    "a = imageio.imread('data/test/label/00000.tiff')\n",
    "import matplotlib.pyplot as plt\n",
    "plt.imshow(a)"
   ]
  },
  {
   "cell_type": "code",
   "execution_count": null,
   "metadata": {},
   "outputs": [],
   "source": [
    "np.min(a)"
   ]
  },
  {
   "cell_type": "code",
   "execution_count": null,
   "metadata": {},
   "outputs": [],
   "source": []
  },
  {
   "cell_type": "code",
   "execution_count": null,
   "metadata": {},
   "outputs": [],
   "source": [
    "a.shape"
   ]
  },
  {
   "cell_type": "code",
   "execution_count": null,
   "metadata": {},
   "outputs": [],
   "source": []
  }
 ],
 "metadata": {
  "kernelspec": {
   "display_name": "Python 3",
   "language": "python",
   "name": "python3"
  },
  "language_info": {
   "codemirror_mode": {
    "name": "ipython",
    "version": 3
   },
   "file_extension": ".py",
   "mimetype": "text/x-python",
   "name": "python",
   "nbconvert_exporter": "python",
   "pygments_lexer": "ipython3",
   "version": "3.7.6"
  }
 },
 "nbformat": 4,
 "nbformat_minor": 4
}
